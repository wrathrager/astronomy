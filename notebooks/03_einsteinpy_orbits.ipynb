{
 "cells": [
  {
   "cell_type": "markdown",
   "id": "d9e44e96",
   "metadata": {},
   "source": [
    "# GR orbits & geodesics"
   ]
  }
 ],
 "metadata": {
  "language_info": {
   "name": "python"
  }
 },
 "nbformat": 4,
 "nbformat_minor": 5
}
