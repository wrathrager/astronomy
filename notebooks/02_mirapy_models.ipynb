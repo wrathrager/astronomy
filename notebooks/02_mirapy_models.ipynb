{
 "cells": [
  {
   "cell_type": "markdown",
   "id": "6d0b8c42",
   "metadata": {},
   "source": [
    "# ML models (galaxy classification, time-series)"
   ]
  }
 ],
 "metadata": {
  "language_info": {
   "name": "python"
  }
 },
 "nbformat": 4,
 "nbformat_minor": 5
}
