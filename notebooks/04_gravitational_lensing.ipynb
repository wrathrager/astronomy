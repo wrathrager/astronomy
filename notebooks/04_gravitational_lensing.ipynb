{
 "cells": [
  {
   "cell_type": "markdown",
   "id": "3b49591f",
   "metadata": {},
   "source": [
    "# Lensing simulations"
   ]
  }
 ],
 "metadata": {
  "language_info": {
   "name": "python"
  }
 },
 "nbformat": 4,
 "nbformat_minor": 5
}
